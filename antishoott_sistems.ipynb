{
  "nbformat": 4,
  "nbformat_minor": 0,
  "metadata": {
    "colab": {
      "provenance": [],
      "authorship_tag": "ABX9TyMV9Ldmyj5uoTQLGx08F0EC"
    },
    "kernelspec": {
      "name": "python3",
      "display_name": "Python 3"
    },
    "language_info": {
      "name": "python"
    }
  },
  "cells": [
    {
      "cell_type": "markdown",
      "source": [
        "пошаговое руководство по реализации детекции оружия с помощью YOLOv4 из потокового видео"
      ],
      "metadata": {
        "id": "jyxzfk5bC8oO"
      }
    },
    {
      "cell_type": "markdown",
      "source": [
        "1. Установка необходимых библиотек\n",
        "Установим OpenCV и Darknet (реализация YOLOv4):"
      ],
      "metadata": {
        "id": "y0rwCXrXDJlW"
      }
    },
    {
      "cell_type": "code",
      "source": [
        "pip install opencv-python\n",
        "git clone https://github.com/AlexeyAB/darknet\n",
        "cd darknet\n",
        "make"
      ],
      "metadata": {
        "id": "nv2iBlpaC_8Q"
      },
      "execution_count": null,
      "outputs": []
    },
    {
      "cell_type": "markdown",
      "source": [
        "2. Настройка Darknet\n",
        "Скачайте весы YOLOv4 и конфигурационные файлы:"
      ],
      "metadata": {
        "id": "PXRAoBuBDkZN"
      }
    },
    {
      "cell_type": "code",
      "source": [
        "wget https://raw.githubusercontent.com/AlexeyAB/darknet/master/cfg/yolov4.cfg\n",
        "wget https://raw.githubusercontent.com/AlexeyAB/darknet/master/data/coco.names\n",
        "wget https://pjreddie.com/media/files/yolov4.weights"
      ],
      "metadata": {
        "id": "l9TA9As0DbYZ"
      },
      "execution_count": null,
      "outputs": []
    },
    {
      "cell_type": "markdown",
      "source": [
        "3. Код для детекции\n",
        "Создайте скрипт для захвата видео и детекции объектов:"
      ],
      "metadata": {
        "id": "_5cwRfxJDnFA"
      }
    },
    {
      "cell_type": "code",
      "source": [
        "import cv2\n",
        "import numpy as np\n",
        "\n",
        "# Загрузка модели YOLOv4\n",
        "net = cv2.dnn.readNet('yolov4.weights', 'yolov4.cfg')\n",
        "with open('coco.names', 'r') as f:\n",
        "    classes = [line.strip() for line in f.readlines()]\n",
        "\n",
        "layer_names = net.getLayerNames()\n",
        "output_layers = [layer_names[i - 1] for i in net.getUnconnectedOutLayers()]\n",
        "\n",
        "# Захват видео с веб-камеры\n",
        "cap = cv2.VideoCapture(0)\n",
        "\n",
        "while True:\n",
        "    ret, frame = cap.read()\n",
        "    height, width, channels = frame.shape\n",
        "\n",
        "    # Препроцессинг изображения для YOLO\n",
        "    blob = cv2.dnn.blobFromImage(frame, 0.00392, (416, 416), (0, 0, 0), True, crop=False)\n",
        "    net.setInput(blob)\n",
        "    outs = net.forward(output_layers)\n",
        "\n",
        "    # Обработка результатов\n",
        "    class_ids = []\n",
        "    confidences = []\n",
        "    boxes = []\n",
        "    for out in outs:\n",
        "        for detection in out:\n",
        "            scores = detection[5:]\n",
        "            class_id = np.argmax(scores)\n",
        "            confidence = scores[class_id]\n",
        "            if confidence > 0.5:\n",
        "                center_x = int(detection[0] * width)\n",
        "                center_y = int(detection[1] * height)\n",
        "                w = int(detection[2] * width)\n",
        "                h = int(detection[3] * height)\n",
        "                x = int(center_x - w / 2)\n",
        "                y = int(center_y - h / 2)\n",
        "                boxes.append([x, y, w, h])\n",
        "                confidences.append(float(confidence))\n",
        "                class_ids.append(class_id)\n",
        "\n",
        "    # Применение non-max suppression\n",
        "    indexes = cv2.dnn.NMSBoxes(boxes, confidences, 0.5, 0.4)\n",
        "\n",
        "    # Отображение результатов на видео\n",
        "    for i in range(len(boxes)):\n",
        "        if i in indexes:\n",
        "            x, y, w, h = boxes[i]\n",
        "            label = str(classes[class_ids[i]])\n",
        "            if label == \"person\" or label == \"gun\":  # или другой класс, связанный с оружием\n",
        "                cv2.rectangle(frame, (x, y), (x + w, y + h), (0, 255, 0), 2)\n",
        "                cv2.putText(frame, label, (x, y - 10), cv2.FONT_HERSHEY_SIMPLEX, 0.5, (0, 255, 0), 2)\n",
        "\n",
        "    cv2.imshow('Image', frame)\n",
        "    key = cv2.waitKey(1)\n",
        "    if key == 27:  # ESC\n",
        "        break\n",
        "\n",
        "cap.release()\n",
        "cv2.destroyAllWindows()"
      ],
      "metadata": {
        "id": "5ohq-d1ODmYt"
      },
      "execution_count": null,
      "outputs": []
    },
    {
      "cell_type": "markdown",
      "source": [
        "4. Запуск проекта\n",
        "Запустите скрипт для начала детекции:"
      ],
      "metadata": {
        "id": "cOCmveokD5qx"
      }
    },
    {
      "cell_type": "code",
      "source": [
        "python detect.py"
      ],
      "metadata": {
        "id": "LpdS92dqD7vH"
      },
      "execution_count": null,
      "outputs": []
    },
    {
      "cell_type": "markdown",
      "source": [
        "Этот код захватывает потоковое видео с веб-камеры и использует YOLOv4 для детекции объектов, выводя результат в реальном времени."
      ],
      "metadata": {
        "id": "TZBcbJfoEHwb"
      }
    },
    {
      "cell_type": "markdown",
      "source": [
        "\n",
        "5. Оптимизация производительности\n",
        "Для улучшения производительности можно использовать GPU-ускорение с помощью CUDA. Если у вас есть поддерживаемая видеокарта, установите необходимые драйверы и библиотеку cuDNN, а затем соберите Darknet с поддержкой CUDA:"
      ],
      "metadata": {
        "id": "E2sKRb3hES8c"
      }
    },
    {
      "cell_type": "code",
      "source": [
        "# В Makefile установите USE_CUDA=1 и USE_CUDNN=1\n",
        "make clean\n",
        "make"
      ],
      "metadata": {
        "id": "RbpNMSqjEIzg"
      },
      "execution_count": null,
      "outputs": []
    },
    {
      "cell_type": "markdown",
      "source": [
        "6. Настройка классов детекции\n",
        "Если необходимо детектировать конкретные классы, такие как оружие, вам нужно изменить файл coco.names, чтобы включить только те классы, которые вас интересуют. Если вы используете пользовательский датасет, измените файл конфигурации соответствующим образом."
      ],
      "metadata": {
        "id": "7omiB9PyEfXm"
      }
    },
    {
      "cell_type": "markdown",
      "source": [
        "7. Тренировка собственной модели\n",
        "Если готовая модель YOLOv4 не распознает оружие должным образом, вам может потребоваться обучить собственную модель на специализированном датасете:\n",
        "\n",
        "Соберите и разметьте данные (изображения с оружием).\n",
        "Подготовьте файлы конфигурации для обучения (например, yolov4-custom.cfg).\n",
        "Запустите обучение с использованием Darknet:"
      ],
      "metadata": {
        "id": "uXoQDYy7Eif9"
      }
    },
    {
      "cell_type": "code",
      "source": [
        "./darknet detector train data/obj.data cfg/yolov4-custom.cfg yolov4.conv.137"
      ],
      "metadata": {
        "id": "KqakHedTEe2e"
      },
      "execution_count": null,
      "outputs": []
    },
    {
      "cell_type": "markdown",
      "source": [
        "8. Интеграция с другими системами\n",
        "Для более сложных проектов можно интегрировать детекцию с системами видеонаблюдения, уведомлений или аналитики. Например, вы можете отправлять уведомления при обнаружении оружия:"
      ],
      "metadata": {
        "id": "uPOQ0NYpEzB1"
      }
    },
    {
      "cell_type": "code",
      "source": [
        "import smtplib\n",
        "from email.mime.text import MIMEText\n",
        "\n",
        "def send_alert():\n",
        "    msg = MIMEText('Weapon detected!')\n",
        "    msg['Subject'] = 'Alert'\n",
        "    msg['From'] = 'your_email@gmail.com'\n",
        "    msg['To'] = 'recipient_email@gmail.com'\n",
        "\n",
        "    server = smtplib.SMTP('smtp.gmail.com', 587)\n",
        "    server.starttls()\n",
        "    server.login('your_email@gmail.com', 'password')\n",
        "    server.sendmail('your_email@gmail.com', 'recipient_email@gmail.com', msg.as_string())\n",
        "    server.quit()"
      ],
      "metadata": {
        "id": "eBBlJysuE8eD"
      },
      "execution_count": null,
      "outputs": []
    },
    {
      "cell_type": "markdown",
      "source": [
        "9. Развертывание на сервере\n",
        "Если вам нужно развернуть систему на сервере:\n",
        "\n",
        "Выберите сервер (например, AWS, Google Cloud, Azure).\n",
        "Настройте сервер для запуска скрипта в фоновом режиме.\n",
        "Настройте автоматический перезапуск скрипта при сбое (например, с помощью systemd)."
      ],
      "metadata": {
        "id": "tguw-4I8FJmZ"
      }
    },
    {
      "cell_type": "code",
      "source": [
        "# /etc/systemd/system/detect.service\n",
        "[Unit]\n",
        "Description=YOLOv4 Weapon Detection\n",
        "\n",
        "[Service]\n",
        "ExecStart=/usr/bin/python3 /path/to/detect.py\n",
        "Restart=always\n",
        "\n",
        "[Install]\n",
        "WantedBy=multi-user.target"
      ],
      "metadata": {
        "id": "dIiP3c1qFBNj"
      },
      "execution_count": null,
      "outputs": []
    },
    {
      "cell_type": "code",
      "source": [
        "sudo systemctl enable detect.service\n",
        "sudo systemctl start detect.service"
      ],
      "metadata": {
        "id": "nCKO5U-pFx3I"
      },
      "execution_count": null,
      "outputs": []
    },
    {
      "cell_type": "markdown",
      "source": [
        "10. Мониторинг и улучшение\n",
        "Регулярно проверяйте работу системы и корректируйте модель по мере необходимости. Сохраняйте логи для анализа ошибок и доработок.\n",
        "\n",
        "Таким образом, вы создадите и развернете систему детекции оружия с потокового видео, используя YOLOv4."
      ],
      "metadata": {
        "id": "F6ME4YWPF8_N"
      }
    },
    {
      "cell_type": "markdown",
      "source": [
        "11. Интерфейс пользователя\n",
        "Создайте простой веб-интерфейс для отображения видео и уведомлений. Используйте Flask для создания веб-приложения:"
      ],
      "metadata": {
        "id": "HGYkBHAdF_Dp"
      }
    },
    {
      "cell_type": "code",
      "source": [
        "pip install flask\n"
      ],
      "metadata": {
        "id": "mxnAc4puGDqq"
      },
      "execution_count": null,
      "outputs": []
    },
    {
      "cell_type": "code",
      "source": [
        "# app.py\n",
        "from flask import Flask, render_template, Response\n",
        "import cv2\n",
        "import threading\n",
        "\n",
        "app = Flask(__name__)\n",
        "cap = cv2.VideoCapture(0)\n",
        "\n",
        "def generate():\n",
        "    while True:\n",
        "        ret, frame = cap.read()\n",
        "        if not ret:\n",
        "            break\n",
        "        height, width, channels = frame.shape\n",
        "\n",
        "        blob = cv2.dnn.blobFromImage(frame, 0.00392, (416, 416), (0, 0, 0), True, crop=False)\n",
        "        net.setInput(blob)\n",
        "        outs = net.forward(output_layers)\n",
        "\n",
        "        class_ids = []\n",
        "        confidences = []\n",
        "        boxes = []\n",
        "        for out in outs:\n",
        "            for detection in out:\n",
        "                scores = detection[5:]\n",
        "                class_id = np.argmax(scores)\n",
        "                confidence = scores[class_id]\n",
        "                if confidence > 0.5:\n",
        "                    center_x = int(detection[0] * width)\n",
        "                    center_y = int(detection[1] * height)\n",
        "                    w = int(detection[2] * width)\n",
        "                    h = int(detection[3] * height)\n",
        "                    x = int(center_x - w / 2)\n",
        "                    y = int(center_y - h / 2)\n",
        "                    boxes.append([x, y, w, h])\n",
        "                    confidences.append(float(confidence))\n",
        "                    class_ids.append(class_id)\n",
        "\n",
        "        indexes = cv2.dnn.NMSBoxes(boxes, confidences, 0.5, 0.4)\n",
        "\n",
        "        for i in range(len(boxes)):\n",
        "            if i in indexes:\n",
        "                x, y, w, h = boxes[i]\n",
        "                label = str(classes[class_ids[i]])\n",
        "                if label == \"person\" or label == \"gun\":\n",
        "                    cv2.rectangle(frame, (x, y), (x + w, y + h), (0, 255, 0), 2)\n",
        "                    cv2.putText(frame, label, (x, y - 10), cv2.FONT_HERSHEY_SIMPLEX, 0.5, (0, 255, 0), 2)\n",
        "\n",
        "        ret, buffer = cv2.imencode('.jpg', frame)\n",
        "        frame = buffer.tobytes()\n",
        "        yield (b'--frame\\r\\n'\n",
        "               b'Content-Type: image/jpeg\\r\\n\\r\\n' + frame + b'\\r\\n')\n",
        "\n",
        "@app.route('/')\n",
        "def index():\n",
        "    return render_template('index.html')\n",
        "\n",
        "@app.route('/video_feed')\n",
        "def video_feed():\n",
        "    return Response(generate(),\n",
        "                    mimetype='multipart/x-mixed-replace; boundary=frame')\n",
        "\n",
        "if __name__ == '__main__':\n",
        "    app.run(host='0.0.0.0', debug=True)\n"
      ],
      "metadata": {
        "id": "beNt5FMdGKum"
      },
      "execution_count": null,
      "outputs": []
    },
    {
      "cell_type": "markdown",
      "source": [
        "Создайте HTML шаблон для отображения видео:"
      ],
      "metadata": {
        "id": "0dnqqWiDGRFc"
      }
    },
    {
      "cell_type": "code",
      "source": [
        "<!-- templates/index.html -->\n",
        "<!DOCTYPE html>\n",
        "<html>\n",
        "<head>\n",
        "    <title>Weapon Detection</title>\n",
        "</head>\n",
        "<body>\n",
        "    <h1>Weapon Detection</h1>\n",
        "    <img src=\"{{ url_for('video_feed') }}\">\n",
        "</body>\n",
        "</html>\n"
      ],
      "metadata": {
        "id": "8dKtRuX_GSXd"
      },
      "execution_count": null,
      "outputs": []
    },
    {
      "cell_type": "markdown",
      "source": [
        "12. Запуск веб-приложения\n",
        "Запустите Flask приложение:"
      ],
      "metadata": {
        "id": "H4-7G5MHGamO"
      }
    },
    {
      "cell_type": "code",
      "source": [
        "python app.py\n"
      ],
      "metadata": {
        "id": "ZmeVJPj3GclR"
      },
      "execution_count": null,
      "outputs": []
    },
    {
      "cell_type": "markdown",
      "source": [
        "Теперь вы можете получить доступ к веб-интерфейсу, открыв в браузере http://localhost:5000.\n",
        "\n",
        "13. Обработка и хранение событий\n",
        "Добавьте функцию для сохранения кадров с обнаруженным оружием и ведения журнала событий:"
      ],
      "metadata": {
        "id": "jL-PwVMSGjV_"
      }
    },
    {
      "cell_type": "code",
      "source": [
        "import os\n",
        "from datetime import datetime\n",
        "\n",
        "def save_frame(frame):\n",
        "    if not os.path.exists('events'):\n",
        "        os.makedirs('events')\n",
        "    timestamp = datetime.now().strftime('%Y-%m-%d_%H-%M-%S')\n",
        "    cv2.imwrite(f'events/{timestamp}.jpg', frame)\n",
        "\n",
        "# Внутри цикла обработки видео:\n",
        "if label == \"gun\":\n",
        "    save_frame(frame)\n",
        "    send_alert()\n"
      ],
      "metadata": {
        "id": "VDsWUb_uGlE4"
      },
      "execution_count": null,
      "outputs": []
    },
    {
      "cell_type": "markdown",
      "source": [
        "14. Тестирование и отладка\n",
        "Тестируйте систему с различными видео и настройте параметры (порог уверенности, non-max suppression) для достижения наилучших результатов."
      ],
      "metadata": {
        "id": "jw-U-yavHX23"
      }
    },
    {
      "cell_type": "markdown",
      "source": [
        "15. Обновление модели\n",
        "Периодически обновляйте модель, добавляя новые данные и переобучая её для повышения точности детекции.\n",
        "\n",
        "Следуя этим шагам, вы сможете создать и развернуть полноценную систему детекции оружия в реальном времени с веб-интерфейсом и уведомлениями."
      ],
      "metadata": {
        "id": "b0uk4P_CHaJy"
      }
    },
    {
      "cell_type": "markdown",
      "source": [
        "16. Безопасность и авторизация\n",
        "Для защиты веб-интерфейса добавьте авторизацию. Используем Flask-Login:"
      ],
      "metadata": {
        "id": "9yfg9PV1HfTm"
      }
    },
    {
      "cell_type": "code",
      "source": [
        "pip install flask-login\n"
      ],
      "metadata": {
        "id": "ZYxz-YpnHjtj"
      },
      "execution_count": null,
      "outputs": []
    },
    {
      "cell_type": "markdown",
      "source": [
        "Создайте файл для управления пользователями:"
      ],
      "metadata": {
        "id": "EM5IhHiCHnKB"
      }
    },
    {
      "cell_type": "code",
      "source": [
        "# auth.py\n",
        "from flask import Blueprint, render_template, redirect, url_for, request, flash\n",
        "from flask_login import LoginManager, UserMixin, login_user, login_required, logout_user, current_user\n",
        "\n",
        "auth = Blueprint('auth', __name__)\n",
        "\n",
        "users = {\"admin\": {\"password\": \"password\"}}  # Простая база данных пользователей\n",
        "\n",
        "class User(UserMixin):\n",
        "    def __init__(self, username):\n",
        "        self.id = username\n",
        "\n",
        "login_manager = LoginManager()\n",
        "login_manager.login_view = 'auth.login'\n",
        "\n",
        "@login_manager.user_loader\n",
        "def load_user(user_id):\n",
        "    if user_id in users:\n",
        "        return User(user_id)\n",
        "    return None\n",
        "\n",
        "@auth.route('/login', methods=['GET', 'POST'])\n",
        "def login():\n",
        "    if request.method == 'POST':\n",
        "        username = request.form['username']\n",
        "        password = request.form['password']\n",
        "        if username in users and users[username]['password'] == password:\n",
        "            user = User(username)\n",
        "            login_user(user)\n",
        "            return redirect(url_for('main.index'))\n",
        "        flash('Invalid credentials')\n",
        "    return render_template('login.html')\n",
        "\n",
        "@auth.route('/logout')\n",
        "@login_required\n",
        "def logout():\n",
        "    logout_user()\n",
        "    return redirect(url_for('auth.login'))\n"
      ],
      "metadata": {
        "id": "WjLK90XDHobh"
      },
      "execution_count": null,
      "outputs": []
    },
    {
      "cell_type": "markdown",
      "source": [
        "17. Интеграция авторизации в основное приложение\n",
        "Измените основной файл приложения для поддержки авторизации"
      ],
      "metadata": {
        "id": "Fsbp0Mc-IAl1"
      }
    },
    {
      "cell_type": "code",
      "source": [
        "# app.py\n",
        "from flask import Flask, render_template, Response\n",
        "from flask_login import LoginManager, login_required\n",
        "import cv2\n",
        "import threading\n",
        "\n",
        "app = Flask(__name__)\n",
        "app.secret_key = 'your_secret_key'\n",
        "app.register_blueprint(auth, url_prefix='/auth')\n",
        "\n",
        "login_manager.init_app(app)\n",
        "\n",
        "# Ваша функция generate() и другие части кода остаются без изменений\n",
        "\n",
        "@app.route('/')\n",
        "@login_required\n",
        "def index():\n",
        "    return render_template('index.html')\n",
        "\n",
        "@app.route('/video_feed')\n",
        "@login_required\n",
        "def video_feed():\n",
        "    return Response(generate(),\n",
        "                    mimetype='multipart/x-mixed-replace; boundary=frame')\n",
        "\n",
        "if __name__ == '__main__':\n",
        "    app.run(host='0.0.0.0', debug=True)\n"
      ],
      "metadata": {
        "id": "GSKNnd5gH_6w"
      },
      "execution_count": null,
      "outputs": []
    },
    {
      "cell_type": "markdown",
      "source": [
        "Создайте шаблон для страницы входа:"
      ],
      "metadata": {
        "id": "tsF-g1giIJU0"
      }
    },
    {
      "cell_type": "code",
      "source": [
        "<!-- templates/login.html -->\n",
        "<!DOCTYPE html>\n",
        "<html>\n",
        "<head>\n",
        "    <title>Login</title>\n",
        "</head>\n",
        "<body>\n",
        "    <h1>Login</h1>\n",
        "    <form method=\"POST\">\n",
        "        <label for=\"username\">Username:</label>\n",
        "        <input type=\"text\" id=\"username\" name=\"username\" required>\n",
        "        <br>\n",
        "        <label for=\"password\">Password:</label>\n",
        "        <input type=\"password\" id=\"password\" name=\"password\" required>\n",
        "        <br>\n",
        "        <button type=\"submit\">Login</button>\n",
        "    </form>\n",
        "</body>\n",
        "</html>\n"
      ],
      "metadata": {
        "id": "WCb3rDtIIKhn"
      },
      "execution_count": null,
      "outputs": []
    },
    {
      "cell_type": "markdown",
      "source": [
        "18. Логирование и мониторинг\n",
        "Для обеспечения стабильности добавьте логирование и мониторинг:"
      ],
      "metadata": {
        "id": "AsGkJPEPITLr"
      }
    },
    {
      "cell_type": "code",
      "source": [
        "import logging\n",
        "\n",
        "logging.basicConfig(filename='app.log', level=logging.INFO)\n",
        "\n",
        "def save_frame(frame):\n",
        "    if not os.path.exists('events'):\n",
        "        os.makedirs('events')\n",
        "    timestamp = datetime.now().strftime('%Y-%m-%d_%H-%M-%S')\n",
        "    cv2.imwrite(f'events/{timestamp}.jpg', frame)\n",
        "    logging.info(f'Weapon detected and saved at {timestamp}')\n"
      ],
      "metadata": {
        "id": "epN-kz-YISwu"
      },
      "execution_count": null,
      "outputs": []
    },
    {
      "cell_type": "markdown",
      "source": [
        "19. Развертывание на сервере\n",
        "Зарегистрируйтесь на платформе облачных вычислений (AWS, Google Cloud, Azure).\n",
        "Создайте виртуальную машину (VM).\n",
        "Установите необходимые зависимости и разверните приложение:"
      ],
      "metadata": {
        "id": "m5X_b59zIbSx"
      }
    },
    {
      "cell_type": "code",
      "source": [
        "# На вашем сервере\n",
        "git clone <ваш_репозиторий>\n",
        "cd <ваш_репозиторий>\n",
        "pip install -r requirements.txt\n",
        "python app.py\n"
      ],
      "metadata": {
        "id": "CSDjI466IdKr"
      },
      "execution_count": null,
      "outputs": []
    },
    {
      "cell_type": "markdown",
      "source": [
        "20. Настройка обратного прокси\n",
        "Настройте Nginx или Apache для работы с вашим Flask приложением:"
      ],
      "metadata": {
        "id": "08EIOOU-IkGv"
      }
    },
    {
      "cell_type": "code",
      "source": [
        "# Установите Nginx\n",
        "sudo apt update\n",
        "sudo apt install nginx\n",
        "\n",
        "# Настройте Nginx для проксирования запросов к вашему приложению\n",
        "sudo nano /etc/nginx/sites-available/your_site\n",
        "\n",
        "# Добавьте конфигурацию:\n",
        "server {\n",
        "    listen 80;\n",
        "    server_name your_domain_or_IP;\n",
        "\n",
        "    location / {\n",
        "        proxy_pass http://127.0.0.1:5000;\n",
        "        proxy_set_header Host $host;\n",
        "        proxy_set_header X-Real-IP $remote_addr;\n",
        "        proxy_set_header X-Forwarded-For $proxy_add_x_forwarded_for;\n",
        "        proxy_set_header X-Forwarded-Proto $scheme;\n",
        "    }\n",
        "}\n",
        "\n",
        "# Включите конфигурацию и перезапустите Nginx\n",
        "sudo ln -s /etc/nginx/sites-available/your_site /etc/nginx/sites-enabled\n",
        "sudo systemctl restart nginx\n"
      ],
      "metadata": {
        "id": "Qm4FUnHBImWg"
      },
      "execution_count": null,
      "outputs": []
    },
    {
      "cell_type": "markdown",
      "source": [
        "Следуя этим шагам, вы создадите безопасную и функциональную систему детекции оружия с потокового видео, развернутую на сервере с веб-интерфейсом, авторизацией и логированием."
      ],
      "metadata": {
        "id": "AdUPBC09Iq0U"
      }
    },
    {
      "cell_type": "markdown",
      "source": [
        "21. Масштабирование и балансировка нагрузки\n",
        "Если ваш проект требует высокой доступности и масштабирования, настройте балансировщик нагрузки и несколько серверов приложений. Это поможет распределить нагрузку и обеспечить отказоустойчивость.\n",
        "\n",
        "Балансировщик нагрузки: Используйте балансировщик нагрузки, такой как AWS ELB или Nginx, для распределения трафика между несколькими экземплярами вашего приложения.\n",
        "\n",
        "Авто-масштабирование: Настройте авто-масштабирование на платформе облачных вычислений для автоматического добавления или удаления серверов в зависимости от нагрузки.\n",
        "\n",
        "22. Контейнеризация с Docker\n",
        "Использование Docker для контейнеризации вашего приложения упростит развертывание и управление зависимостями"
      ],
      "metadata": {
        "id": "XoskEe7aIuIR"
      }
    },
    {
      "cell_type": "markdown",
      "source": [
        "Создайте Dockerfile:"
      ],
      "metadata": {
        "id": "lS3_q2xGI5ZI"
      }
    },
    {
      "cell_type": "code",
      "source": [
        "# Dockerfile\n",
        "FROM python:3.8-slim\n",
        "\n",
        "WORKDIR /app\n",
        "\n",
        "COPY requirements.txt requirements.txt\n",
        "RUN pip install -r requirements.txt\n",
        "\n",
        "COPY . .\n",
        "\n",
        "CMD [\"python\", \"app.py\"]\n"
      ],
      "metadata": {
        "id": "wmgqLC_8I_MO"
      },
      "execution_count": null,
      "outputs": []
    },
    {
      "cell_type": "markdown",
      "source": [
        "Создайте образ Docker:"
      ],
      "metadata": {
        "id": "Uesbnp29JFB5"
      }
    },
    {
      "cell_type": "code",
      "source": [
        "docker build -t weapon-detection:latest .\n"
      ],
      "metadata": {
        "id": "9giFFO6hJIId"
      },
      "execution_count": null,
      "outputs": []
    },
    {
      "cell_type": "markdown",
      "source": [
        "Запустите контейнер:"
      ],
      "metadata": {
        "id": "xqZfLu2VJLry"
      }
    },
    {
      "cell_type": "code",
      "source": [
        "docker run -d -p 5000:5000 weapon-detection:latest\n"
      ],
      "metadata": {
        "id": "AEpyesa9JO7u"
      },
      "execution_count": null,
      "outputs": []
    },
    {
      "cell_type": "markdown",
      "source": [
        "Используйте Docker Compose для более сложных развертываний:"
      ],
      "metadata": {
        "id": "1AxrglBvJcDM"
      }
    },
    {
      "cell_type": "code",
      "source": [
        "# docker-compose.yml\n",
        "version: '3'\n",
        "services:\n",
        "  web:\n",
        "    image: weapon-detection:latest\n",
        "    ports:\n",
        "      - \"5000:5000\"\n",
        "    environment:\n",
        "      - FLASK_ENV=production\n"
      ],
      "metadata": {
        "id": "0zce30YaJgEI"
      },
      "execution_count": null,
      "outputs": []
    },
    {
      "cell_type": "code",
      "source": [
        "docker-compose up -d\n"
      ],
      "metadata": {
        "id": "RHgk1o_6Jj7f"
      },
      "execution_count": null,
      "outputs": []
    },
    {
      "cell_type": "markdown",
      "source": [
        "23. CI/CD для автоматизации развертываний\n",
        "Настройте CI/CD (непрерывную интеграцию и доставку) для автоматизации развертываний.\n",
        "\n",
        "Используйте GitHub Actions или другой CI/CD сервис:"
      ],
      "metadata": {
        "id": "LxxQJVvYJmlJ"
      }
    },
    {
      "cell_type": "code",
      "source": [
        "# .github/workflows/deploy.yml\n",
        "name: Deploy\n",
        "\n",
        "on:\n",
        "  push:\n",
        "    branches:\n",
        "      - main\n",
        "\n",
        "jobs:\n",
        "  build:\n",
        "    runs-on: ubuntu-latest\n",
        "    steps:\n",
        "      - name: Checkout code\n",
        "        uses: actions/checkout@v2\n",
        "      - name: Set up Python\n",
        "        uses: actions/setup-python@v2\n",
        "        with:\n",
        "          python-version: 3.8\n",
        "      - name: Install dependencies\n",
        "        run: pip install -r requirements.txt\n",
        "      - name: Build Docker image\n",
        "        run: docker build -t weapon-detection:latest .\n",
        "      - name: Push Docker image\n",
        "        run: |\n",
        "          echo \"${{ secrets.DOCKER_PASSWORD }}\" | docker login -u \"${{ secrets.DOCKER_USERNAME }}\" --password-stdin\n",
        "          docker tag weapon-detection:latest your_dockerhub_username/weapon-detection:latest\n",
        "          docker push your_dockerhub_username/weapon-detection:latest\n",
        "      - name: Deploy to server\n",
        "        run: ssh user@your_server \"docker pull your_dockerhub_username/weapon-detection:latest && docker-compose up -d\"\n"
      ],
      "metadata": {
        "id": "sVGrHtKrJu8-"
      },
      "execution_count": null,
      "outputs": []
    },
    {
      "cell_type": "markdown",
      "source": [
        "Настройте сикреты в репозитории GitHub: добавьте DOCKER_USERNAME, DOCKER_PASSWORD, и другие необходимые переменные."
      ],
      "metadata": {
        "id": "zov-ec3fJ6Wu"
      }
    },
    {
      "cell_type": "markdown",
      "source": [
        "24. Мониторинг и алертинг\n",
        "Для постоянного мониторинга системы и настройки уведомлений при сбоях используйте специализированные инструменты.\n",
        "\n",
        "Prometheus и Grafana: для мониторинга метрик и создания дашбордов."
      ],
      "metadata": {
        "id": "AAcVEX5jKELM"
      }
    },
    {
      "cell_type": "code",
      "source": [
        "docker run -d -p 9090:9090 --name prometheus prom/prometheus\n",
        "docker run -d -p 3000:3000 --name grafana grafana/grafana\n"
      ],
      "metadata": {
        "id": "dy_L5g_uKF-t"
      },
      "execution_count": null,
      "outputs": []
    },
    {
      "cell_type": "markdown",
      "source": [
        "Alertmanager: для отправки уведомлений в случае проблем."
      ],
      "metadata": {
        "id": "y0lKP70wKKDg"
      }
    },
    {
      "cell_type": "code",
      "source": [
        "docker run -d -p 9093:9093 --name alertmanager prom/alertmanager\n"
      ],
      "metadata": {
        "id": "qxOhh3Z4KOHl"
      },
      "execution_count": null,
      "outputs": []
    },
    {
      "cell_type": "markdown",
      "source": [
        "Визуализация и отчетность\n",
        "Создайте инструменты для визуализации данных и генерации отчетов, чтобы отслеживать эффективность системы и анализировать результаты детекции.\n",
        "\n",
        "Grafana дашборды: Настройте дашборды для визуализации метрик.\n",
        "\n",
        "Создайте панель мониторинга, показывающую количество детекций, типы обнаруженных объектов и другие важные метрики.\n",
        "Используйте графики, гистограммы и таблицы для представления данных.\n",
        "Автоматическая генерация отчетов: Используйте скрипты для создания регулярных отчетов о работе системы."
      ],
      "metadata": {
        "id": "1rzk3GpvKfMA"
      }
    },
    {
      "cell_type": "code",
      "source": [
        "import pandas as pd\n",
        "from datetime import datetime\n",
        "import matplotlib.pyplot as plt\n",
        "\n",
        "def generate_report():\n",
        "    # Загрузка данных из логов или базы данных\n",
        "    data = pd.read_csv('logs.csv')\n",
        "    data['timestamp'] = pd.to_datetime(data['timestamp'])\n",
        "\n",
        "    # Фильтрация данных за последний месяц\n",
        "    last_month = datetime.now() - pd.DateOffset(months=1)\n",
        "    monthly_data = data[data['timestamp'] >= last_month]\n",
        "\n",
        "    # Анализ данных\n",
        "    report = monthly_data.groupby('label').size()\n",
        "\n",
        "    # Визуализация\n",
        "    plt.figure(figsize=(10, 5))\n",
        "    report.plot(kind='bar')\n",
        "    plt.title('Detections in the Last Month')\n",
        "    plt.xlabel('Object Type')\n",
        "    plt.ylabel('Count')\n",
        "    plt.savefig('report.png')\n",
        "    plt.close()\n",
        "\n",
        "    # Сохранение отчета\n",
        "    report.to_csv('monthly_report.csv')\n"
      ],
      "metadata": {
        "id": "uy0gdf3KKi7X"
      },
      "execution_count": null,
      "outputs": []
    },
    {
      "cell_type": "markdown",
      "source": [
        "Обратная связь и улучшения\n",
        "Собирайте обратную связь от пользователей и регулярно вносите улучшения в систему.\n",
        "\n",
        "Форма обратной связи: Создайте страницу для пользователей, чтобы они могли сообщать о проблемах и предлагать улучшения."
      ],
      "metadata": {
        "id": "pBUq-sF_Kreh"
      }
    },
    {
      "cell_type": "code",
      "source": [
        "<!-- templates/feedback.html -->\n",
        "<!DOCTYPE html>\n",
        "<html>\n",
        "<head>\n",
        "    <title>Feedback</title>\n",
        "</head>\n",
        "<body>\n",
        "    <h1>Feedback</h1>\n",
        "    <form action=\"/feedback\" method=\"POST\">\n",
        "        <label for=\"feedback\">Your Feedback:</label>\n",
        "        <textarea id=\"feedback\" name=\"feedback\" required></textarea>\n",
        "        <br>\n",
        "        <button type=\"submit\">Submit</button>\n",
        "    </form>\n",
        "</body>\n",
        "</html>\n"
      ],
      "metadata": {
        "id": "2JXnN8X6KtpJ"
      },
      "execution_count": null,
      "outputs": []
    },
    {
      "cell_type": "markdown",
      "source": [
        "Обработка обратной связи: Добавьте маршрут в Flask для обработки формы обратной связи."
      ],
      "metadata": {
        "id": "0Ra0yXvWK0Uj"
      }
    },
    {
      "cell_type": "code",
      "source": [
        "# app.py\n",
        "from flask import request, redirect, url_for, flash\n",
        "\n",
        "@app.route('/feedback', methods=['POST'])\n",
        "def feedback():\n",
        "    feedback_text = request.form['feedback']\n",
        "    with open('feedback.txt', 'a') as f:\n",
        "        f.write(f'{datetime.now()}: {feedback_text}\\n')\n",
        "    flash('Thank you for your feedback!')\n",
        "    return redirect(url_for('index'))\n"
      ],
      "metadata": {
        "id": "SeXZ8LGFK2qi"
      },
      "execution_count": null,
      "outputs": []
    },
    {
      "cell_type": "markdown",
      "source": [
        "Обеспечение качества и тестирование\n",
        "Регулярное тестирование и обеспечение качества системы помогут поддерживать её работоспособность и надежность.\n",
        "\n",
        "Юнит-тесты: Пишите тесты для отдельных частей кода."
      ],
      "metadata": {
        "id": "ecUV3cjtLCIY"
      }
    },
    {
      "cell_type": "code",
      "source": [
        "import unittest\n",
        "\n",
        "class TestDetection(unittest.TestCase):\n",
        "    def test_save_frame(self):\n",
        "        # Тестирование функции сохранения кадра\n",
        "        frame = np.zeros((100, 100, 3), dtype=np.uint8)\n",
        "        save_frame(frame)\n",
        "        self.assertTrue(os.path.exists('events'))\n",
        "\n",
        "if __name__ == '__main__':\n",
        "    unittest.main()\n"
      ],
      "metadata": {
        "id": "NRpn5SdgLDbp"
      },
      "execution_count": null,
      "outputs": []
    },
    {
      "cell_type": "markdown",
      "source": [
        "Интеграционные тесты: Тестируйте всю систему целиком."
      ],
      "metadata": {
        "id": "f-ZBrrBULIf0"
      }
    },
    {
      "cell_type": "code",
      "source": [
        "from selenium import webdriver\n",
        "\n",
        "def test_web_interface():\n",
        "    driver = webdriver.Chrome()\n",
        "    driver.get('http://localhost:5000')\n",
        "    assert 'Weapon Detection' in driver.title\n",
        "    driver.quit()\n"
      ],
      "metadata": {
        "id": "WtzHe9SWLKKb"
      },
      "execution_count": null,
      "outputs": []
    },
    {
      "cell_type": "markdown",
      "source": [
        "Машинное обучение и улучшение моделей\n",
        "Используйте передовые методы машинного обучения для улучшения моделей.\n",
        "\n",
        "Transfer Learning: Используйте предварительно обученные модели и дообучайте их на своем датасете."
      ],
      "metadata": {
        "id": "c_r8txg6LUXU"
      }
    },
    {
      "cell_type": "code",
      "source": [
        "from tensorflow.keras.applications import MobileNetV2\n",
        "from tensorflow.keras.layers import Dense, GlobalAveragePooling2D\n",
        "from tensorflow.keras.models import Model\n",
        "\n",
        "base_model = MobileNetV2(weights='imagenet', include_top=False)\n",
        "x = base_model.output\n",
        "x = GlobalAveragePooling2D()(x)\n",
        "x = Dense(1024, activation='relu')(x)\n",
        "predictions = Dense(num_classes, activation='softmax')(x)\n",
        "model = Model(inputs=base_model.input, outputs=predictions)\n",
        "\n",
        "for layer in base_model.layers:\n",
        "    layer.trainable = False\n",
        "\n",
        "model.compile(optimizer='adam', loss='categorical_crossentropy', metrics=['accuracy'])\n",
        "model.fit(train_data, train_labels, epochs=5, validation_data=(val_data, val_labels))\n"
      ],
      "metadata": {
        "id": "WQyddbd_LWjT"
      },
      "execution_count": null,
      "outputs": []
    },
    {
      "cell_type": "markdown",
      "source": [
        "Data Augmentation: Используйте методы аугментации данных для увеличения разнообразия обучающего набора данных."
      ],
      "metadata": {
        "id": "SnbN7g6WLbtF"
      }
    },
    {
      "cell_type": "code",
      "source": [
        "from tensorflow.keras.preprocessing.image import ImageDataGenerator\n",
        "\n",
        "datagen = ImageDataGenerator(\n",
        "    rotation_range=40,\n",
        "    width_shift_range=0.2,\n",
        "    height_shift_range=0.2,\n",
        "    shear_range=0.2,\n",
        "    zoom_range=0.2,\n",
        "    horizontal_flip=True,\n",
        "    fill_mode='nearest'\n",
        ")\n",
        "\n",
        "datagen.fit(train_data)\n"
      ],
      "metadata": {
        "id": "e3y8mfU5LfN0"
      },
      "execution_count": null,
      "outputs": []
    }
  ]
}